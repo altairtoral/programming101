{
 "cells": [
  {
   "cell_type": "code",
   "execution_count": 35,
   "metadata": {},
   "outputs": [],
   "source": [
    "import pathlib\n",
    "import pandas as pd\n",
    "import numpy as np\n",
    "import re\n",
    "import xlwings as xw\n",
    "import datetime\n",
    "import calendar\n",
    "import os as system"
   ]
  },
  {
   "cell_type": "code",
   "execution_count": 36,
   "metadata": {},
   "outputs": [
    {
     "data": {
      "text/plain": [
       "'July'"
      ]
     },
     "execution_count": 36,
     "metadata": {},
     "output_type": "execute_result"
    }
   ],
   "source": [
    "d=datetime.date.today()\n",
    "d.month\n",
    "targetMonth=d.month-1\n",
    "targetMonth\n",
    "targetMonthName=calendar.month_name[targetMonth]\n",
    "targetMonthName"
   ]
  },
  {
   "cell_type": "code",
   "execution_count": 52,
   "metadata": {},
   "outputs": [
    {
     "name": "stdout",
     "output_type": "stream",
     "text": [
      "C:\\WPy64-3741\\notebooks\n"
     ]
    }
   ],
   "source": [
    "system.listdir()\n",
    "print(system.getcwd())\n",
    "#system.chdir('/DummyFolder')"
   ]
  },
  {
   "cell_type": "code",
   "execution_count": 55,
   "metadata": {},
   "outputs": [],
   "source": [
    "#base_path_to_OneE= r\"C:\\WPy64-3741\\notebooks\\DummyFolder\"\n",
    "#base_path_to_Cockpit=r\"C:\\WPy64-3741\\notebooks\\DummyFolder\"\n",
    "#base_path_to_Cockpits_repository=r\"C:\\WPy64-3741\\notebooks\\DummyFolder\"\n",
    "base_path_to_projects_file=r\"C:/WPy64-3741/notebooks/DummyFolder\"\n",
    "Name_of_source_file=\"projectCodes.txt\"\n",
    "\n",
    "#path_to_file=system.path.join(base_path_to_projects_file, Name_of_source_file)\n",
    "#print (path_to_file)\n",
    "#projectCodes=pd.read_csv(path_to_file)\n",
    "projectCodes=pd.read_csv('DummyFolder/projectCodes.txt')\n"
   ]
  },
  {
   "cell_type": "code",
   "execution_count": 56,
   "metadata": {},
   "outputs": [
    {
     "name": "stdout",
     "output_type": "stream",
     "text": [
      "         Name AuftragsNr_TE AuftragsNrTPLE\n",
      "0  60kW_Serie    THE6011712     T3648AD643\n",
      "1      MB_Opt    THE6011926      T3648Q694\n"
     ]
    }
   ],
   "source": [
    "print (projectCodes)"
   ]
  },
  {
   "cell_type": "code",
   "execution_count": 61,
   "metadata": {},
   "outputs": [
    {
     "name": "stdout",
     "output_type": "stream",
     "text": [
      "None\n"
     ]
    }
   ],
   "source": [
    "print(projectCodes.get(2))"
   ]
  }
 ],
 "metadata": {
  "kernelspec": {
   "display_name": "Python 3",
   "language": "python",
   "name": "python3"
  },
  "language_info": {
   "codemirror_mode": {
    "name": "ipython",
    "version": 3
   },
   "file_extension": ".py",
   "mimetype": "text/x-python",
   "name": "python",
   "nbconvert_exporter": "python",
   "pygments_lexer": "ipython3",
   "version": "3.8.5"
  }
 },
 "nbformat": 4,
 "nbformat_minor": 2
}
