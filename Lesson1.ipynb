{
 "cells": [
  {
   "cell_type": "code",
   "execution_count": 4,
   "metadata": {},
   "outputs": [
    {
     "name": "stdout",
     "output_type": "stream",
     "text": [
      "HalloTona\n",
      "du bist  39.5\n"
     ]
    }
   ],
   "source": [
    "Begrussung=\"Hallo\"\n",
    "Name1=\"Tona\"\n",
    "Name2= \"Mike\"\n",
    "Alter1= 39.5\n",
    "\n",
    "\n",
    "\n",
    "print(Begrussung + Name1)\n",
    "print (\"du bist \", Alter1)"
   ]
  },
  {
   "cell_type": "code",
   "execution_count": 18,
   "metadata": {},
   "outputs": [
    {
     "name": "stdout",
     "output_type": "stream",
     "text": [
      "Das Durchschnittsalter unserer Familie beträt     44.0\n"
     ]
    }
   ],
   "source": [
    "Mike= 53\n",
    "Elizabeth= 49\n",
    "Elianna= 30\n",
    "D=(Mike+Elizabeth+Elianna)/3\n",
    "print (\"Das Durchschnittsalter unserer Familie beträt    \",D)"
   ]
  },
  {
   "cell_type": "code",
   "execution_count": 12,
   "metadata": {},
   "outputs": [
    {
     "name": "stdout",
     "output_type": "stream",
     "text": [
      "True\n"
     ]
    }
   ],
   "source": [
    "Frage=Mike==53\n",
    "print (Frage)"
   ]
  },
  {
   "cell_type": "code",
   "execution_count": 24,
   "metadata": {},
   "outputs": [
    {
     "name": "stdout",
     "output_type": "stream",
     "text": [
      "Mike ist der Älteste\n"
     ]
    }
   ],
   "source": [
    "if Mike > Elianna and Mike > Elizabeth:\n",
    "    print (\"Mike ist der Älteste\")\n"
   ]
  },
  {
   "cell_type": "code",
   "execution_count": null,
   "metadata": {},
   "outputs": [],
   "source": []
  }
 ],
 "metadata": {
  "kernelspec": {
   "display_name": "Python 3",
   "language": "python",
   "name": "python3"
  },
  "language_info": {
   "codemirror_mode": {
    "name": "ipython",
    "version": 3
   },
   "file_extension": ".py",
   "mimetype": "text/x-python",
   "name": "python",
   "nbconvert_exporter": "python",
   "pygments_lexer": "ipython3",
   "version": "3.8.5"
  }
 },
 "nbformat": 4,
 "nbformat_minor": 4
}
